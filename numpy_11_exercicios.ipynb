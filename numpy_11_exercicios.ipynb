{
 "cells": [
  {
   "cell_type": "markdown",
   "metadata": {},
   "source": [
    "## Exercício\n",
    "\n",
    "Você é um analista de dados em uma empresa e conduziu uma pesquisa de satisfação do cliente durante uma semana. Você perguntou as clientes para classificar seu nível de satisfação com o serviço ao cliente em uma escala de 0 a 10. Você coletou respostas de 30 clientes por dia durante 7 dias, resultando em um total de 210 respostas.\n",
    "\n",
    "No entanto, os dados que você recebeu estão em um array 1D de 210 elementos. Reorganize os dados de forma a ter as respostas por dia e faça uma análise descritiva básica, calculando a média geral de satisfação e a média diária."
   ]
  },
  {
   "cell_type": "code",
   "execution_count": null,
   "metadata": {
    "ExecuteTime": {
     "end_time": "2023-07-03T12:12:12.700234800Z",
     "start_time": "2023-07-03T12:12:12.677347900Z"
    },
    "collapsed": false,
    "jupyter": {
     "outputs_hidden": false
    }
   },
   "outputs": [],
   "source": [
    "import numpy as np\n",
    "\n",
    "# considere os seguintes dados aleatórios como início\n",
    "rng = np.random.default_rng(seed=42)\n",
    "respostas = rng.integers(low=0, high=10, size=210, endpoint=True)"
   ]
  },
  {
   "cell_type": "markdown",
   "metadata": {},
   "source": [
    "O seguinte modelo pode ser pensado para os dados recebidos:\n",
    "\n",
    "    dia 1 cliente 1, dia 1 cliente 2, dia 1 cliente 3, ...\n",
    "    ... dia 7 cliente 28, dia 7 cliente 29, dia 7 cliente 30\n",
    "    \n",
    "Assim, podemos fazer um reshape:"
   ]
  },
  {
   "cell_type": "code",
   "execution_count": null,
   "metadata": {},
   "outputs": [],
   "source": [
    "# Redimensiona o array para ter 7 linhas (dias) e um número adequado de colunas (respostas por dia)\n",
    "respostas_reshaped = respostas.reshape(7, -1)\n",
    "\n",
    "# Calcula a média geral de satisfação\n",
    "media_geral_satisfacao = respostas_reshaped.mean()\n",
    "\n",
    "# Calcula a média de satisfação para cada dia (ao longo das linhas)\n",
    "media_diaria_satisfacao = respostas_reshaped.mean(axis=1)\n",
    "\n",
    "# Imprime a média geral de satisfação\n",
    "print(f'Média geral de satisfação: {media_geral_satisfacao}')\n",
    "\n",
    "# Itera sobre a média diária de satisfação e imprime cada uma\n",
    "for i in range(len(media_diaria_satisfacao)):\n",
    "    print(f'Média de satisfação no dia {i + 1}: {media_diaria_satisfacao[i]}')\n"
   ]
  }
 ],
 "metadata": {
  "kernelspec": {
   "display_name": "Python 3",
   "language": "python",
   "name": "python3"
  },
  "language_info": {
   "codemirror_mode": {
    "name": "ipython",
    "version": 3
   },
   "file_extension": ".py",
   "mimetype": "text/x-python",
   "name": "python",
   "nbconvert_exporter": "python",
   "pygments_lexer": "ipython3",
   "version": "3.13.1"
  }
 },
 "nbformat": 4,
 "nbformat_minor": 4
}
