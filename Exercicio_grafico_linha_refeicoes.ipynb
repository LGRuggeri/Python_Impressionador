{
 "cells": [
  {
   "cell_type": "markdown",
   "metadata": {},
   "source": [
    "## Exercício - Gráfico de linhas\n",
    "\n",
    "Considere a seguinte tabela com o número de refeições servidas por ano por uma instituição de caridade.\n",
    "\n",
    "Ano | Refeições\n",
    "--- | ---\n",
    "2010 | 40.139\n",
    "2011 | 127.020\n",
    "2012 | 168.193\n",
    "2013 | 153.115\n",
    "2014 | 202.102\n",
    "2015 | 232.897\n",
    "2016 | 277.912\n",
    "2017 | 205.350\n",
    "2018 | 233.389\n",
    "2019 | 232.797\n",
    "2020 | 110.023\n",
    "2021 | 160.350\n",
    "2022 | 222.789\n",
    "\n",
    "Construa um gráfico de linhas com as seguintes características:\n",
    "\n",
    "- Tamanho 14x6\n",
    "- Linha com espessura 3\n",
    "- Palheta de cores Set3\n",
    "- Destaque o impacto da pandemia (2020 e 2021) com um vspan\n",
    "- Destaque o impacto da pandemia com um texto\n",
    "- Destaque os pontos de início e fim da série com um scatter plot com as quantidades de refeições servidas\n",
    "- Remova os eixos y\n",
    "- Remova os ticks do eixo x\n",
    "- Remova as bordas do gráfico\n",
    "- Adicione um título\n",
    "- A figura deve ser salva numa pasta chamada `imagens` que deve estar no mesmo diretório do Jupyter Notebook\n",
    "\n"
   ]
  },
  {
   "cell_type": "code",
   "execution_count": 1,
   "metadata": {
    "collapsed": false,
    "jupyter": {
     "outputs_hidden": false
    }
   },
   "outputs": [],
   "source": [
    "# listas de anos e refeições\n",
    "anos = [2010, 2011, 2012, 2013, 2014, 2015, 2016, 2017, 2018, 2019, 2020, 2021, 2022]\n",
    "refeicoes = [40139, 127020, 168193, 153115, 202102, 232897, 277912, 205350, 233389, 232797, 110023, 160350, 222789]"
   ]
  },
  {
   "cell_type": "code",
   "execution_count": null,
   "metadata": {},
   "outputs": [],
   "source": [
    "import matplotlib.pyplot as plt\n",
    "from cycler import cycler\n",
    "\n",
    "# Define a paleta de cores 'Set3' e configura o ciclo de cores para os gráficos\n",
    "cores = plt.get_cmap('Set3').colors\n",
    "ciclo_cores = cycler(color=cores)\n",
    "plt.rc('axes', prop_cycle=ciclo_cores)\n",
    "\n",
    "# Cria uma figura com tamanho 14x8 polegadas\n",
    "plt.figure(figsize=(14, 8))\n",
    "\n",
    "# Plota os dados de anos e refeições\n",
    "plt.plot(anos, refeicoes, linestyle='-', linewidth=3, color=cores[0])\n",
    "\n",
    "# Define os limites do eixo x para cobrir todos os anos, com um pouco de espaço extra\n",
    "plt.xlim(min(anos) - 1, max(anos) + 1)\n",
    "\n",
    "# Adiciona uma área sombreada para destacar a pandemia de 2020 a 2021\n",
    "plt.axvspan(2020, 2021, color=cores[1], alpha=0.5, zorder=0)\n",
    "\n",
    "# Adiciona um texto 'PANDEMIA' próximo ao período destacado no gráfico\n",
    "plt.text(2020, 40000, 'PANDEMIA', fontsize=10, weight='bold')\n",
    "\n",
    "# Remove os ticks do eixo x\n",
    "plt.tick_params(axis='x', length=0)\n",
    "\n",
    "# Remove os ticks do eixo y\n",
    "plt.yticks([])\n",
    "\n",
    "# Remove a caixa ao redor do gráfico\n",
    "plt.box(False)\n",
    "\n",
    "# Define os anos como ticks do eixo x para que todos os anos sejam exibidos\n",
    "plt.xticks(anos)\n",
    "\n",
    "# Adiciona texto com as quantidades de refeições ao lado do ponto inicial e final no gráfico\n",
    "for posicao in (-1, 0):\n",
    "    plt.scatter(anos[posicao], refeicoes[posicao], color=cores[6])\n",
    "    plt.annotate(refeicoes[posicao], color= cores[6], xy=(anos[posicao], refeicoes[posicao]), xytext=(5,0), textcoords= 'offset points',fontsize=12, weight='bold')\n",
    "\n",
    "# Adiciona um título e rótulos aos eixos x e y\n",
    "plt.title('Número de refeições servidas por ano', fontsize=12, weight='bold', loc='left', color= 'gray')\n",
    "plt.ylabel('Número de refeições')\n",
    "\n",
    "# Salva o gráfico em um arquivo PNG com alta resolução e sem bordas extras\n",
    "plt.savefig('refeicoes_por_ano.png', dpi=300, bbox_inches='tight')\n",
    "\n",
    "# Mostra o gráfico\n",
    "plt.show()\n"
   ]
  }
 ],
 "metadata": {
  "kernelspec": {
   "display_name": "Python 3",
   "language": "python",
   "name": "python3"
  },
  "language_info": {
   "codemirror_mode": {
    "name": "ipython",
    "version": 3
   },
   "file_extension": ".py",
   "mimetype": "text/x-python",
   "name": "python",
   "nbconvert_exporter": "python",
   "pygments_lexer": "ipython3",
   "version": "3.13.1"
  }
 },
 "nbformat": 4,
 "nbformat_minor": 4
}
