{
 "cells": [
  {
   "cell_type": "markdown",
   "id": "993ee9ad",
   "metadata": {},
   "source": [
    "### Puxar base de dados"
   ]
  },
  {
   "cell_type": "code",
   "execution_count": null,
   "id": "90e92890",
   "metadata": {},
   "outputs": [],
   "source": [
    "import pandas as pd\n",
    "from pathlib import Path\n",
    "import os\n",
    "import locale\n",
    "\n",
    "# Definir a localidade para os Estados Unidos para formatação de moeda\n",
    "locale.setlocale(locale.LC_ALL, 'en_US.UTF-8')\n",
    "\n",
    "# Obter o caminho completo do arquivo 'exportacoes_franca.csv' no diretório atual\n",
    "caminho_arquivo = Path(os.getcwd()) / 'exportacoes_franca.csv'\n",
    "\n",
    "# Ler o arquivo CSV no DataFrame\n",
    "franca_df = pd.read_csv(caminho_arquivo)\n",
    "\n",
    "# Exibir o DataFrame para verificar os dados\n",
    "display(franca_df)\n"
   ]
  },
  {
   "cell_type": "markdown",
   "id": "4ad76a65",
   "metadata": {},
   "source": [
    "### Informações Gerais\n",
    "\n",
    "Quantas linhas têm a tabela? Existe algum valor vazio que deveria ser tratado?"
   ]
  },
  {
   "cell_type": "code",
   "execution_count": null,
   "id": "cce34f4d",
   "metadata": {},
   "outputs": [],
   "source": [
    "# Calcular o número de valores nulos em cada coluna\n",
    "valores_nulos = franca_df.isnull().sum()\n",
    "\n",
    "# Obter o número de linhas do DataFrame\n",
    "numero_linhas = franca_df.shape[0]\n",
    "\n",
    "# Exibir o número total de linhas do DataFrame\n",
    "display('Número de linhas {}'.format(numero_linhas))\n",
    "\n",
    "# Exibir a contagem de valores nulos em cada coluna\n",
    "display(valores_nulos)\n"
   ]
  },
  {
   "cell_type": "markdown",
   "id": "2daa0fa9",
   "metadata": {},
   "source": [
    "### Como foi a evolução das exportações para a frança ao longo dos anos?\n",
    "\n",
    "Crie uma tabela com os anos de 2016, 2017, 2018, 2019 e 2020 e o valor US$ de exportações"
   ]
  },
  {
   "cell_type": "code",
   "execution_count": null,
   "id": "f02fb7d6",
   "metadata": {},
   "outputs": [],
   "source": [
    "# Filtrar os dados para obter apenas as exportações a partir de 2017 (ano > 2016)\n",
    "franca_df2016_2020 = franca_df[franca_df['Year'] >= 2016]\n",
    "\n",
    "# Calcular o valor total das exportações em dólares entre 2016 e 2020\n",
    "valores_dolares2016_2020 = franca_df2016_2020['US$ FOB'].sum()\n",
    "\n",
    "# Formatar o valor total das exportações em dólares para uma string formatada com separadores de milhar\n",
    "valores_dolares2016_2020_formatado = locale.currency(valores_dolares2016_2020, grouping=True)\n",
    "\n",
    "# Exibir o DataFrame filtrado para verificar os dados\n",
    "display(franca_df2016_2020)\n",
    "\n",
    "# Imprimir o valor total exportado de 2016 a 2020, formatado como moeda\n",
    "print(f'Valor total exportado de 2016 há 2020: {valores_dolares2016_2020_formatado}')\n"
   ]
  },
  {
   "cell_type": "markdown",
   "id": "717e331d",
   "metadata": {},
   "source": [
    "### Quais os produtos mais exportados ao longo de todo o período?\n",
    "\n",
    "Queremos saber os produtos com maior valor US$ de exportação"
   ]
  },
  {
   "cell_type": "code",
   "execution_count": null,
   "id": "ba74c817",
   "metadata": {},
   "outputs": [],
   "source": [
    "# Definir a localidade para os Estados Unidos\n",
    "locale.setlocale(locale.LC_ALL, 'en_US.UTF-8')\n",
    "\n",
    "# Agrupar os dados pela descrição dos produtos e somar os valores de 'US$ FOB'\n",
    "produtos_mais_exportados = franca_df.groupby('SH2 Description')['US$ FOB'].sum().reset_index()\n",
    "\n",
    "# Ordenar o DataFrame resultante pelo valor de 'US$ FOB' em ordem decrescente\n",
    "produtos_mais_exportados = produtos_mais_exportados.sort_values(by='US$ FOB', ascending=False)\n",
    "\n",
    "# Selecionar os 10 produtos mais exportados\n",
    "top10_produtos_mais_exportados = produtos_mais_exportados.head(10)\n",
    "\n",
    "# Imprimir o título\n",
    "print('Top 10 produtos mais exportados: ')\n",
    "\n",
    "# Iterar sobre os 10 produtos mais exportados e imprimir seus valores formatados\n",
    "for index, row in top10_produtos_mais_exportados.iterrows():\n",
    "    print(f'{index + 1} - {row[\"SH2 Description\"]}: {locale.currency(row[\"US$ FOB\"], grouping=True)}')\n",
    "\n",
    "# Exibir o DataFrame completo dos produtos mais exportados\n",
    "display(produtos_mais_exportados)\n"
   ]
  },
  {
   "cell_type": "markdown",
   "id": "6ce25d4d",
   "metadata": {},
   "source": [
    "### Em 2020 qual cidade mais exportou para a França?\n",
    "Em valores US$"
   ]
  },
  {
   "cell_type": "code",
   "execution_count": null,
   "id": "074fb7b8",
   "metadata": {},
   "outputs": [],
   "source": [
    "# Agrupar os dados pelo nome da cidade e somar os valores de 'US$ FOB'\n",
    "cidade_mais_exportou = franca_df.groupby('City')['US$ FOB'].sum().reset_index()\n",
    "\n",
    "# Ordenar o DataFrame resultante pelo valor de 'US$ FOB' em ordem decrescente\n",
    "cidade_mais_exportou = cidade_mais_exportou.sort_values(by='US$ FOB', ascending=False)\n",
    "\n",
    "# Selecionar a cidade com o maior valor exportado (primeira linha do DataFrame ordenado)\n",
    "cidade_mais_exportou = cidade_mais_exportou.head(1)\n",
    "\n",
    "# Obter o nome da cidade que mais exportou\n",
    "cidade = cidade_mais_exportou.iloc[0]['City']\n",
    "\n",
    "# Obter o valor total exportado pela cidade que mais exportou\n",
    "valor_exportado = cidade_mais_exportou.iloc[0]['US$ FOB']\n",
    "\n",
    "# Imprimir o resultado formatado com o nome da cidade e o valor exportado em dólares\n",
    "print(f'A cidade que mais exportou: {cidade} com um valor de {locale.currency(valor_exportado, grouping=True)}')\n"
   ]
  },
  {
   "cell_type": "markdown",
   "id": "84fbbcf3",
   "metadata": {},
   "source": [
    "### Quais os produtos mais exportados (em US$) que as 2 maiores cidades (em exportação em 2020) exportaram?"
   ]
  },
  {
   "cell_type": "code",
   "execution_count": null,
   "id": "12173e06",
   "metadata": {},
   "outputs": [],
   "source": [
    "# Agrupar por cidade e somar o peso líquido\n",
    "duas_maiores_cidades = franca_df.groupby('City')['Net Weight'].sum().reset_index()\n",
    "\n",
    "# Ordenar do maior para o menor peso líquido\n",
    "duas_maiores_cidades = duas_maiores_cidades.sort_values(by='Net Weight', ascending=False)\n",
    "\n",
    "# Selecionar as duas maiores cidades\n",
    "duas_maiores_cidades = duas_maiores_cidades.head(2)\n",
    "\n",
    "# Filtrar as exportações das duas maiores cidades em 2020\n",
    "exportacao_2020_duas_maiores_cidades = franca_df[(franca_df['Year'] == 2020) & (franca_df['City'].isin(duas_maiores_cidades['City']))]\n",
    "\n",
    "# Agrupar por cidade e somar o valor das exportações\n",
    "exportacao_2020_duas_maiores_cidades = exportacao_2020_duas_maiores_cidades.groupby('City')['US$ FOB'].sum().reset_index()\n",
    "\n",
    "# Obter a descrição do produto mais exportado em 2020 pelas duas maiores cidades\n",
    "produtos_filtrados = franca_df[(franca_df['Year'] == 2020) & (franca_df['City'].isin(duas_maiores_cidades['City']))]\n",
    "produto_mais_exportado_duas_maiores_cidades_2020 = produtos_filtrados.groupby(['City', 'SH2 Description'])['US$ FOB'].sum().reset_index()\n",
    "produto_mais_exportado_duas_maiores_cidades_2020 = produto_mais_exportado_duas_maiores_cidades_2020.sort_values(by='US$ FOB', ascending=False).drop_duplicates('City')\n",
    "\n",
    "# Imprimir os resultados\n",
    "print(\"Exportação das duas maiores cidades em 2020:\")\n",
    "print(exportacao_2020_duas_maiores_cidades)\n",
    "print(\"\\nProduto mais exportado pelas duas maiores cidades em 2020:\")\n",
    "print(produto_mais_exportado_duas_maiores_cidades_2020)\n"
   ]
  }
 ],
 "metadata": {
  "kernelspec": {
   "display_name": "Python 3",
   "language": "python",
   "name": "python3"
  },
  "language_info": {
   "codemirror_mode": {
    "name": "ipython",
    "version": 3
   },
   "file_extension": ".py",
   "mimetype": "text/x-python",
   "name": "python",
   "nbconvert_exporter": "python",
   "pygments_lexer": "ipython3",
   "version": "3.13.1"
  }
 },
 "nbformat": 4,
 "nbformat_minor": 5
}
