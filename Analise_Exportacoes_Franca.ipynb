{
 "cells": [
  {
   "cell_type": "markdown",
   "id": "993ee9ad",
   "metadata": {},
   "source": [
    "### Puxar base de dados"
   ]
  },
  {
   "cell_type": "code",
   "execution_count": null,
   "id": "90e92890",
   "metadata": {},
   "outputs": [],
   "source": [
    "import pandas as pd\n",
    "from pathlib import Path\n",
    "import os\n",
    "import locale\n",
    "\n",
    "# Definir a localidade para os Estados Unidos para formatação de moeda\n",
    "locale.setlocale(locale.LC_ALL, 'en_US.UTF-8')\n",
    "\n",
    "# Obter o caminho completo do arquivo 'exportacoes_franca.csv' no diretório atual\n",
    "caminho_arquivo = Path(os.getcwd()) / 'exportacoes_franca.csv'\n",
    "\n",
    "# Ler o arquivo CSV no DataFrame\n",
    "franca_df = pd.read_csv(caminho_arquivo)\n",
    "\n",
    "# Exibir o DataFrame para verificar os dados\n",
    "display(franca_df)\n"
   ]
  },
  {
   "cell_type": "markdown",
   "id": "4ad76a65",
   "metadata": {},
   "source": [
    "### Informações Gerais\n",
    "\n",
    "Quantas linhas têm a tabela? Existe algum valor vazio que deveria ser tratado?"
   ]
  },
  {
   "cell_type": "code",
   "execution_count": null,
   "id": "cce34f4d",
   "metadata": {},
   "outputs": [],
   "source": [
    "# Calcular o número de valores nulos em cada coluna\n",
    "valores_nulos = franca_df.isnull().sum()\n",
    "\n",
    "# Obter o número de linhas do DataFrame\n",
    "numero_linhas = franca_df.shape[0]\n",
    "\n",
    "# Exibir o número total de linhas do DataFrame\n",
    "display('Número de linhas {}'.format(numero_linhas))\n",
    "\n",
    "# Exibir a contagem de valores nulos em cada coluna\n",
    "display(valores_nulos)\n"
   ]
  },
  {
   "cell_type": "markdown",
   "id": "2daa0fa9",
   "metadata": {},
   "source": [
    "### Como foi a evolução das exportações para a frança ao longo dos anos?\n",
    "\n",
    "Crie uma tabela com os anos de 2016, 2017, 2018, 2019 e 2020 e o valor US$ de exportações"
   ]
  },
  {
   "cell_type": "code",
   "execution_count": null,
   "id": "f02fb7d6",
   "metadata": {},
   "outputs": [],
   "source": [
    "# Agrupar os dados por ano e somar apenas as colunas numéricas\n",
    "franca_df2016_2020 = franca_df.groupby('Year').sum(numeric_only=True)\n",
    "\n",
    "# Selecionar apenas a coluna 'US$ FOB'\n",
    "franca_df2016_2020 = franca_df2016_2020[['US$ FOB']]\n",
    "\n",
    "# Calcular o valor total das exportações em dólares entre 2016 e 2020\n",
    "valores_dolares2016_2020 = franca_df2016_2020['US$ FOB'].sum()\n",
    "\n",
    "# Formatar o valor total das exportações em dólares para uma string formatada com separadores de milhar\n",
    "valores_dolares2016_2020_formatado = locale.currency(valores_dolares2016_2020, grouping=True)\n",
    "\n",
    "# Iterar sobre cada linha do DataFrame e imprimir o valor exportado por ano, formatado como moeda\n",
    "for index, row in franca_df2016_2020.iterrows():\n",
    "    print(f'{index}: {locale.currency(row[\"US$ FOB\"], grouping=True)}')\n",
    "\n",
    "# Imprimir o valor total exportado de 2016 a 2020, formatado como moeda\n",
    "print(f'Valor total exportado de 2016 há 2020: {valores_dolares2016_2020_formatado}')\n"
   ]
  },
  {
   "cell_type": "markdown",
   "id": "717e331d",
   "metadata": {},
   "source": [
    "### Quais os produtos mais exportados ao longo de todo o período?\n",
    "\n",
    "Queremos saber os produtos com maior valor US$ de exportação"
   ]
  },
  {
   "cell_type": "code",
   "execution_count": null,
   "id": "ba74c817",
   "metadata": {},
   "outputs": [],
   "source": [
    "# Definir a localidade para os Estados Unidos\n",
    "locale.setlocale(locale.LC_ALL, 'en_US.UTF-8')\n",
    "\n",
    "# Agrupar os dados pela descrição dos produtos e somar os valores de 'US$ FOB'\n",
    "produtos_mais_exportados = franca_df.groupby('SH2 Description')['US$ FOB'].sum().reset_index()\n",
    "\n",
    "# Ordenar o DataFrame resultante pelo valor de 'US$ FOB' em ordem decrescente\n",
    "produtos_mais_exportados = produtos_mais_exportados.sort_values(by='US$ FOB', ascending=False)\n",
    "\n",
    "# Selecionar os 10 produtos mais exportados\n",
    "top10_produtos_mais_exportados = produtos_mais_exportados.head(10)\n",
    "\n",
    "# Imprimir o título\n",
    "print('Top 10 produtos mais exportados: ')\n",
    "\n",
    "# Iterar sobre os 10 produtos mais exportados e imprimir seus valores formatados\n",
    "for index, row in top10_produtos_mais_exportados.iterrows():\n",
    "    print(f'{index + 1} - {row[\"SH2 Description\"]}: {locale.currency(row[\"US$ FOB\"], grouping=True)}')"
   ]
  },
  {
   "cell_type": "markdown",
   "id": "6ce25d4d",
   "metadata": {},
   "source": [
    "### Em 2020 qual cidade mais exportou para a França?\n",
    "Em valores US$"
   ]
  },
  {
   "cell_type": "code",
   "execution_count": null,
   "id": "074fb7b8",
   "metadata": {},
   "outputs": [],
   "source": [
    "# Selecionar apenas os dados do ano de 2020\n",
    "cidades2020 = franca_df[franca_df['Year'] == 2020]\n",
    "\n",
    "# Agrupar os dados do ano de 2020 pelo nome da cidade e somar os valores de 'US$ FOB'\n",
    "cidades2020_agrupado = cidades2020[['City', 'US$ FOB']].groupby('City').sum().reset_index()\n",
    "\n",
    "# Ordenar o DataFrame resultante pelo valor de 'US$ FOB' em ordem decrescente\n",
    "cidades2020_agrupado = cidades2020_agrupado.sort_values(by='US$ FOB', ascending=False)\n",
    "\n",
    "# Obter o nome da cidade que mais exportou (primeira linha do DataFrame ordenado)\n",
    "cidade_mais_exportou = cidades2020_agrupado.iloc[0]['City']\n",
    "\n",
    "# Obter o valor total exportado pela cidade que mais exportou\n",
    "valor_exportado = cidades2020_agrupado.iloc[0]['US$ FOB']\n",
    "\n",
    "# Imprimir o resultado formatado com o nome da cidade e o valor exportado em dólares\n",
    "print(f'A cidade que mais exportou: {cidade_mais_exportou} com um valor de {locale.currency(valor_exportado, grouping=True)}')\n"
   ]
  },
  {
   "cell_type": "markdown",
   "id": "84fbbcf3",
   "metadata": {},
   "source": [
    "### Quais os produtos mais exportados (em US$) que as 2 maiores cidades (em exportação em 2020) exportaram?"
   ]
  },
  {
   "cell_type": "code",
   "execution_count": null,
   "id": "12173e06",
   "metadata": {},
   "outputs": [],
   "source": [
    "# Selecionar apenas os dados do ano de 2020\n",
    "cidades2020 = franca_df[franca_df['Year'] == 2020]\n",
    "\n",
    "# Agrupar os dados do ano de 2020 pelo nome da cidade e somar os valores de 'US$ FOB'\n",
    "cidades2020_agrupado = cidades2020[['City', 'US$ FOB']].groupby('City').sum().reset_index()\n",
    "\n",
    "# Ordenar o DataFrame resultante pelo valor de 'US$ FOB' em ordem decrescente\n",
    "cidades2020_agrupado = cidades2020_agrupado.sort_values(by='US$ FOB', ascending=False)\n",
    "\n",
    "# Obter os nomes das duas cidades que mais exportaram (primeiras duas linhas do DataFrame ordenado)\n",
    "cidades_top2 = cidades2020_agrupado.head(2)\n",
    "\n",
    "# Iterar pelas duas cidades que mais exportaram\n",
    "for index, row in cidades_top2.iterrows():\n",
    "    cidade = row['City']\n",
    "    valor_exportado = row['US$ FOB']\n",
    "    \n",
    "    # Filtrar os dados da cidade atual\n",
    "    dados_cidade = cidades2020[cidades2020['City'] == cidade]\n",
    "    \n",
    "    # Agrupar os dados da cidade atual pela descrição dos produtos e somar os valores de 'US$ FOB'\n",
    "    produtos_mais_exportados = dados_cidade[['SH2 Description', 'US$ FOB']].groupby('SH2 Description').sum()\n",
    "    \n",
    "    # Ordenar os produtos pelo valor de 'US$ FOB' em ordem decrescente\n",
    "    produtos_mais_exportados = produtos_mais_exportados.sort_values(by='US$ FOB', ascending=False)\n",
    "    \n",
    "    # Imprimir os resultados\n",
    "    print(f'Os produtos mais exportados por {cidade} em 2020:')\n",
    "    for index, row in produtos_mais_exportados.head(3).iterrows():\n",
    "        print(f'{index}: {locale.currency(row[\"US$ FOB\"], grouping=True)}')\n",
    "    print(\"\\n\")\n"
   ]
  }
 ],
 "metadata": {
  "kernelspec": {
   "display_name": "Python 3",
   "language": "python",
   "name": "python3"
  },
  "language_info": {
   "codemirror_mode": {
    "name": "ipython",
    "version": 3
   },
   "file_extension": ".py",
   "mimetype": "text/x-python",
   "name": "python",
   "nbconvert_exporter": "python",
   "pygments_lexer": "ipython3",
   "version": "3.13.1"
  }
 },
 "nbformat": 4,
 "nbformat_minor": 5
}
