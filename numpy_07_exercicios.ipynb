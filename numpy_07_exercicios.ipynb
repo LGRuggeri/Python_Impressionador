{
 "cells": [
  {
   "cell_type": "markdown",
   "metadata": {},
   "source": [
    "## Exercício\n",
    "\n",
    "Você é um engenheiro de produção e tem os tempos de ciclo (em minutos) de uma linha de produção em um array NumPy. Seu trabalho é identificar quaisquer tempos de ciclo que estão dois desvios padrão acima ou abaixo da média. Use o seguinte array para sua análise: `tempos_ciclo = np.array([5.5, 5.7, 5.9, 6.0, 5.8, 5.6, 5.7, 7.2, 4.8])`. "
   ]
  },
  {
   "cell_type": "code",
   "execution_count": null,
   "metadata": {
    "ExecuteTime": {
     "end_time": "2023-07-03T12:12:12.700234800Z",
     "start_time": "2023-07-03T12:12:12.644925Z"
    },
    "collapsed": false,
    "jupyter": {
     "outputs_hidden": false
    }
   },
   "outputs": [],
   "source": [
    "import numpy as np\n",
    "\n",
    "# Cria um array NumPy com os tempos de ciclo\n",
    "tempos_ciclo = np.array([5.5, 5.7, 5.9, 6.0, 5.8, 5.6, 5.7, 7.2, 4.8])\n",
    "\n",
    "# Calcula a média dos tempos de ciclo\n",
    "media_tempo = np.mean(tempos_ciclo)\n",
    "\n",
    "# Calcula o desvio padrão dos tempos de ciclo\n",
    "desvio_padrao = np.std(tempos_ciclo)\n",
    "\n",
    "# Cria uma condição para identificar valores fora da faixa de 2 desvios padrão\n",
    "condicao = (tempos_ciclo > media_tempo + 2 * desvio_padrao) | (tempos_ciclo < media_tempo - 2 * desvio_padrao)\n",
    "\n",
    "# Imprime a média dos tempos de ciclo\n",
    "print(\"A média do tempo de ciclo é:\", media_tempo)\n",
    "\n",
    "# Imprime o desvio padrão dos tempos de ciclo\n",
    "print(\"O desvio padrão do tempo de ciclo é:\", desvio_padrao)\n",
    "\n",
    "# Imprime os tempos de ciclo que estão fora da faixa de 2 desvios padrão\n",
    "print(\"Tempos de ciclo fora da faixa de 2 desvios padrão:\", tempos_ciclo[condicao])\n"
   ]
  }
 ],
 "metadata": {
  "kernelspec": {
   "display_name": "Python 3",
   "language": "python",
   "name": "python3"
  },
  "language_info": {
   "codemirror_mode": {
    "name": "ipython",
    "version": 3
   },
   "file_extension": ".py",
   "mimetype": "text/x-python",
   "name": "python",
   "nbconvert_exporter": "python",
   "pygments_lexer": "ipython3",
   "version": "3.13.1"
  }
 },
 "nbformat": 4,
 "nbformat_minor": 4
}
