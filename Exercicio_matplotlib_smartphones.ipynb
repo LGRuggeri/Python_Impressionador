{
 "cells": [
  {
   "cell_type": "markdown",
   "metadata": {},
   "source": [
    "## Exercício para gráficos de pizza\n",
    "\n",
    "Você recebeu, na forma de listas, os dados de participação de mercado de fabricantes de smartphones. Com esses dados, você deve criar um gráfico de pizza, contendo título e rótulos das fatias, além das personalizações listadas abaixo. Os dados são:\n",
    "\n",
    "Fabricante | Participação de mercado (%)\n",
    "--- | ---\n",
    "| Samsung | 30,2\n",
    "| Apple | 26,6\n",
    "| Huawei | 10,4\n",
    "| Xiaomi | 9,7\n",
    "| Oppo | 4,8\n",
    "| Outros | 18,3\n",
    "\n",
    "Personalizações:\n",
    "\n",
    "- Paleta de cores diferente da padrão\n",
    "- Coloque os valores nas fatias\n",
    "- Destaque as fatias da Samsung e da Apple\n",
    "\n",
    "\n"
   ]
  },
  {
   "cell_type": "code",
   "execution_count": 13,
   "metadata": {},
   "outputs": [],
   "source": [
    "import matplotlib.pyplot as plt\n",
    "from cycler import cycler"
   ]
  },
  {
   "cell_type": "code",
   "execution_count": 2,
   "metadata": {
    "collapsed": false,
    "jupyter": {
     "outputs_hidden": false
    }
   },
   "outputs": [],
   "source": [
    "# listas com os dados\n",
    "fabricante = ['Samsung', 'Apple', 'Huawei', 'Xiaomi', 'Oppo', 'Outros']\n",
    "participacao = [30.2, 26.6, 10.4, 9.7, 4.8, 18.3]"
   ]
  },
  {
   "cell_type": "code",
   "execution_count": null,
   "metadata": {},
   "outputs": [],
   "source": [
    "# Definindo o colormap 'Set3' para obter uma variedade de cores para o gráfico\n",
    "cores = plt.get_cmap('Set3').colors\n",
    "# Criando um ciclo de cores para ser usado nos gráficos\n",
    "ciclo_cores = cycler('color', cores)\n",
    "# Aplicando o ciclo de cores aos gráficos\n",
    "plt.rc('axes', prop_cycle=ciclo_cores)\n",
    "\n",
    "# Definindo a quantidade de destaque para cada fatia do gráfico de pizza\n",
    "destaques = [0.1, 0.05, 0, 0, 0, 0]  # Primeira fatia destacada um pouco mais, segunda um pouco menos\n",
    "\n",
    "# Criando a figura do gráfico de pizza com tamanho 5x5 polegadas\n",
    "plt.figure(figsize=(5, 5))\n",
    "\n",
    "# Criando o gráfico de pizza\n",
    "plt.pie(\n",
    "    participacao,                  # Dados de participação de mercado\n",
    "    labels=fabricante,             # Rótulos dos fabricantes\n",
    "    autopct='%1.1f%%',             # Mostrar a porcentagem com uma casa decimal\n",
    "    explode=destaques              # Destacar fatias específicas\n",
    ")\n",
    "\n",
    "# Garantindo que o gráfico de pizza tenha formato circular\n",
    "plt.axis('equal')\n",
    "\n",
    "# Adicionando o título ao gráfico\n",
    "plt.title('Participação percentual de mercado de fabricantes de smartphones')\n",
    "\n",
    "# Exibindo o gráfico\n",
    "plt.show()\n"
   ]
  }
 ],
 "metadata": {
  "kernelspec": {
   "display_name": "Python 3",
   "language": "python",
   "name": "python3"
  },
  "language_info": {
   "codemirror_mode": {
    "name": "ipython",
    "version": 3
   },
   "file_extension": ".py",
   "mimetype": "text/x-python",
   "name": "python",
   "nbconvert_exporter": "python",
   "pygments_lexer": "ipython3",
   "version": "3.13.1"
  }
 },
 "nbformat": 4,
 "nbformat_minor": 4
}
