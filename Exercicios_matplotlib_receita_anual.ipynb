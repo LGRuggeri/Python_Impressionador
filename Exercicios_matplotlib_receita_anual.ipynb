{
 "cells": [
  {
   "cell_type": "markdown",
   "metadata": {},
   "source": [
    "## Exercício para os três tipos básicos de gráficos\n",
    "\n",
    "Você recebeu, na forma de listas, os dados de receita anual de uma empresa de tecnologia, em bilhões de dólares, nos últimos anos. Com esses dados, você deve criar três gráficos, um de cada tipo abaixo listado, para visualizar esses dados. Os gráficos devem conter título e rótulos dos eixos. O nome da empresa é \"Apple Inc.\".\n",
    "\n",
    "Tipos de gráficos:\n",
    "\n",
    "- Gráfico de linhas\n",
    "  - além da linha, mostre os pontos de cada valor\n",
    "- Gráfico de barras\n",
    "  - adicione o valor de cada barra no gráfico\n",
    "- Gráfico de dispersão\n",
    "  - ligue a grade do gráfico\n",
    "\n",
    "Cada gráfico deve usar uma paleta de cores diferente.\n",
    "\n",
    "Os dados são:\n",
    "\n",
    "Ano | Receita (em bilhões de dólares)\n",
    "--- | ---\n",
    "| 2009 | 42,9\n",
    "| 2010 | 65,2\n",
    "| 2011 | 108,2\n",
    "| 2012 | 156,5\n",
    "| 2013 | 170,9\n",
    "| 2014 | 182,8\n",
    "| 2015 | 233,7\n",
    "| 2016 | 215,6\n",
    "| 2017 | 229,2\n",
    "| 2018 | 265,6\n",
    "| 2019 | 260,2\n",
    "| 2020 | 274,5\n",
    "| 2021 | 365,8\n",
    "| 2022 | 394,3\n",
    "\n",
    "Qual o tipo de gráfico mais adequado para visualizar esses dados?"
   ]
  },
  {
   "cell_type": "code",
   "execution_count": 2,
   "metadata": {
    "ExecuteTime": {
     "end_time": "2023-07-17T14:25:38.419413Z",
     "start_time": "2023-07-17T14:25:38.395965200Z"
    },
    "collapsed": false,
    "jupyter": {
     "outputs_hidden": false
    }
   },
   "outputs": [],
   "source": [
    "# convertendo os dados para listas\n",
    "ano = [2009, 2010, 2011, 2012, 2013, 2014, 2015, 2016, 2017, 2018, 2019, 2020, 2021, 2022]\n",
    "receita = [42.9, 65.2, 108.2, 156.5, 170.9, 182.8, 233.7, 215.6, 229.2, 265.6, 260.2, 274.5, 365.8, 394.3]"
   ]
  },
  {
   "cell_type": "code",
   "execution_count": 6,
   "metadata": {},
   "outputs": [],
   "source": [
    "import matplotlib.pyplot as plt\n",
    "from cycler import cycler\n",
    "import numpy as np"
   ]
  },
  {
   "cell_type": "code",
   "execution_count": null,
   "metadata": {
    "ExecuteTime": {
     "end_time": "2023-07-17T14:25:39.063783700Z",
     "start_time": "2023-07-17T14:25:38.419413Z"
    },
    "collapsed": false,
    "jupyter": {
     "outputs_hidden": false
    }
   },
   "outputs": [],
   "source": [
    "# Encontrar os marcadores para a posição onde a receita é mínima\n",
    "marcadores = np.where(receita == np.min(receita), 'x', '')\n",
    "\n",
    "# Definir um ciclo de cores usando o colormap 'tab20'\n",
    "cores = plt.get_cmap('tab20').colors\n",
    "ciclo_cores = cycler(color=cores)\n",
    "plt.rc('axes', prop_cycle=ciclo_cores)\n",
    "\n",
    "# Plotar a linha principal da receita ao longo dos anos\n",
    "plt.plot(ano, receita)\n",
    "\n",
    "# Adicionar marcadores específicos para cada ponto no gráfico\n",
    "for posicao, marcador in enumerate(marcadores):\n",
    "    if marcador == 'x':  # Se o marcador for 'x' (posição da receita mínima)\n",
    "        cor = 'red'      # Cor vermelha para destacar\n",
    "        tamanho = 80     # Tamanho maior para destacar\n",
    "    else:\n",
    "        cor = 'blue'     # Cor azul para os outros pontos\n",
    "        tamanho = 0      # Tamanho zero para não mostrar os outros pontos\n",
    "    plt.scatter(ano[posicao], receita[posicao], color=cor, marker=marcador, s=tamanho)\n",
    "    # Adicionar anotação com o valor da receita no ponto específico\n",
    "    plt.annotate(receita[posicao], color=cor, xy=(ano[posicao], receita[posicao]), xytext=(-15, 7), textcoords='offset points')\n",
    "\n",
    "# Ajustar os limites do eixo x para mostrar os anos corretamente\n",
    "plt.xlim(min(ano) - 1, max(ano))\n",
    "\n",
    "# Adicionar uma área sombreada para indicar um intervalo específico de anos (2018-2022)\n",
    "plt.axvspan(2018, 2022, alpha=0.1, color=cores[2])\n",
    "# Adicionar texto anotando o intervalo de crescimento\n",
    "plt.text(2017, max(receita) * 0.8, 'Recuperação de crescimento', color=cores[4], fontsize=12, weight='bold')\n",
    "\n",
    "# Remover a caixa do gráfico\n",
    "plt.box(False)\n",
    "# Remover as marcas do eixo x\n",
    "plt.tick_params(axis='x', length=0)\n",
    "# Remover os rótulos do eixo y\n",
    "plt.yticks([])\n",
    "\n",
    "# Adicionar título e rótulos aos eixos\n",
    "plt.title('Evolução anual da receita Apple')\n",
    "plt.xlabel('Ano')\n",
    "plt.ylabel('Receita (em Bilhões de US$)')\n",
    "\n",
    "# Exibir o gráfico\n",
    "plt.show()\n"
   ]
  },
  {
   "cell_type": "code",
   "execution_count": null,
   "metadata": {},
   "outputs": [],
   "source": [
    "# gráfico de barras\n",
    "\n",
    "# Criar um conjunto de cores usando o mapa de cores 'Paired'\n",
    "cores = plt.get_cmap('Paired').colors\n",
    "\n",
    "# Criar um ciclo de cores a partir das cores selecionadas\n",
    "ciclo_cores = cycler(color=cores)\n",
    "\n",
    "# Aplicar o ciclo de cores aos gráficos\n",
    "plt.rc('axes', prop_cycle=ciclo_cores)\n",
    "\n",
    "# Definir o tamanho da figura\n",
    "plt.figure(figsize=(10, 6))\n",
    "\n",
    "# Criar o gráfico de barras\n",
    "barras = plt.bar(ano, receita)\n",
    "\n",
    "# Adicionar rótulos de valores às barras\n",
    "plt.bar_label(barras)\n",
    "\n",
    "# Definir os rótulos do eixo x com rotação de 60 graus\n",
    "plt.xticks(ano, rotation=60)\n",
    "\n",
    "# Adicionar título e rótulos dos eixos\n",
    "plt.title('Evolução anual da receita Apple')\n",
    "plt.xlabel('Ano')\n",
    "plt.ylabel('Receita (em Bilhões de US$)')\n",
    "\n",
    "# Exibir o gráfico\n",
    "plt.show()\n"
   ]
  },
  {
   "cell_type": "code",
   "execution_count": null,
   "metadata": {},
   "outputs": [],
   "source": [
    "# gráfico de dispersão\n",
    "\n",
    "# Criar um conjunto de cores usando o mapa de cores 'viridis'\n",
    "cores = plt.get_cmap('viridis').colors\n",
    "\n",
    "# Criar um ciclo de cores a partir das cores selecionadas\n",
    "ciclo_cores = cycler('color', cores)\n",
    "\n",
    "# Aplicar o ciclo de cores aos gráficos\n",
    "plt.rc('axes', prop_cycle=ciclo_cores)\n",
    "\n",
    "# Criar um gráfico de dispersão\n",
    "# `s=receita` define o tamanho dos pontos baseado nos valores de receita\n",
    "# `cmap='viridis'` define o mapa de cores para os pontos\n",
    "# `c=ano` define as cores dos pontos baseadas nos valores dos anos\n",
    "plt.scatter(ano, receita, s=receita, cmap='viridis', c=ano)\n",
    "\n",
    "# Adicionar grade ao gráfico\n",
    "plt.grid()\n",
    "\n",
    "# Adicionar título e rótulos dos eixos\n",
    "plt.title('Evolução anual da receita Apple')\n",
    "plt.xlabel('Ano')\n",
    "plt.ylabel('Receita (em Bilhões de US$)')\n",
    "\n",
    "# Exibir o gráfico\n",
    "plt.show()\n"
   ]
  }
 ],
 "metadata": {
  "kernelspec": {
   "display_name": "Python 3",
   "language": "python",
   "name": "python3"
  },
  "language_info": {
   "codemirror_mode": {
    "name": "ipython",
    "version": 3
   },
   "file_extension": ".py",
   "mimetype": "text/x-python",
   "name": "python",
   "nbconvert_exporter": "python",
   "pygments_lexer": "ipython3",
   "version": "3.13.1"
  }
 },
 "nbformat": 4,
 "nbformat_minor": 4
}
