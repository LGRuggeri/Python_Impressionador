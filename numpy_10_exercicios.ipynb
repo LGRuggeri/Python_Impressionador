{
 "cells": [
  {
   "cell_type": "markdown",
   "metadata": {},
   "source": [
    "## Exercício\n",
    "\n",
    "Você é um gerente de vendas e tem os dados de vendas de três produtos diferentes (Produto A, Produto B, Produto C) para os últimos 5 dias em um array 2D NumPy. Cada linha do array representa um produto e cada coluna representa um dia. Seu trabalho é calcular as vendas totais para cada produto e para cada dia.\n",
    "\n",
    "Use o seguinte array para sua análise:\n",
    "\n",
    "```python\n",
    "vendas = np.array([[50, 60, 70, 65, 80],\n",
    "                   [85, 90, 78, 92, 88],\n",
    "                   [72, 75, 68, 77, 76]])\n",
    "```\n",
    "\n",
    "**Solução:**\n"
   ]
  },
  {
   "cell_type": "code",
   "execution_count": null,
   "metadata": {
    "ExecuteTime": {
     "end_time": "2023-07-03T12:12:12.700234800Z",
     "start_time": "2023-07-03T12:12:12.677347900Z"
    },
    "collapsed": false,
    "jupyter": {
     "outputs_hidden": false
    }
   },
   "outputs": [],
   "source": [
    "import numpy as np\n",
    "\n",
    "# Cria um array NumPy com as vendas de produtos ao longo de diferentes dias\n",
    "vendas = np.array([[50, 60, 70, 65, 80],   # Vendas do produto A\n",
    "                   [85, 90, 78, 92, 88],   # Vendas do produto B\n",
    "                   [72, 75, 68, 77, 76]])  # Vendas do produto C\n",
    "\n",
    "# Calcula as vendas totais para cada produto (soma ao longo das colunas)\n",
    "vendas_totais = vendas.sum(axis=1)\n",
    "\n",
    "# Calcula as vendas diárias (soma ao longo das linhas)\n",
    "vendas_diarias = vendas.sum(axis=0)\n",
    "\n",
    "# Imprime as vendas totais de cada produto\n",
    "for i in range(len(vendas_totais)):\n",
    "    print(f'Vendas totais do produto {i+1}:', vendas_totais[i])\n",
    "\n",
    "# Itera sobre o comprimento de vendas_diarias e imprime as vendas diárias\n",
    "for i in range(len(vendas_diarias)):\n",
    "    print(f'Vendas do dia {i+1}:', vendas_diarias[i])\n"
   ]
  }
 ],
 "metadata": {
  "kernelspec": {
   "display_name": "Python 3",
   "language": "python",
   "name": "python3"
  },
  "language_info": {
   "codemirror_mode": {
    "name": "ipython",
    "version": 3
   },
   "file_extension": ".py",
   "mimetype": "text/x-python",
   "name": "python",
   "nbconvert_exporter": "python",
   "pygments_lexer": "ipython3",
   "version": "3.13.1"
  }
 },
 "nbformat": 4,
 "nbformat_minor": 4
}
