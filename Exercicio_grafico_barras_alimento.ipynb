{
 "cells": [
  {
   "cell_type": "markdown",
   "metadata": {},
   "source": [
    "## Exercício - Gráfico de barras\n",
    "\n",
    "Você deve criar um gráfico de barras com as calorias por 100 g de alimento. Os dados estão na primeira célula do Jupyter Notebook. O gráfico deve ter as seguintes características:\n",
    "\n",
    "- Título: Calorias por 100 g de alimento\n",
    "- Título: O título do gráfico deve estar na cor cinza, em negrito e com tamanho de fonte 14\n",
    "- Eixos: Alimento (eixo X) e Calorias (eixo Y)\n",
    "- Os nomes compostos dos alimentos devem ser quebrados em duas linhas\n",
    "- Cores: Todas as barras devem ser cinza\n",
    "- Transparência: Todas as barras devem ter transparência de 50%\n",
    "- Cor de uma barra específica: A barra do bacon deve ser vermelha e ter transparência de 80%\n",
    "- Rótulos: Os rótulos de cada barra devem estar em negrito e na cor branca\n",
    "- Rótulos: Os rótulos de cada barra devem estar dentro da barra\n",
    "- Ticks: Os ticks do eixo Y devem ser removidos\n",
    "- Ticks: Os ticks do eixo X devem ser removidos\n",
    "- Box: A caixa do gráfico deve ser removida\n",
    "- Grid: O grid do gráfico deve ser removido\n",
    "- Figura: A figura deve ter tamanho 8x5\n",
    "- Figura: A figura deve ser salva com o nome grafico_barras.png, com 300 dpi de resolução e com a área de plotagem ajustada\n",
    "- Figura: A figura deve ser salva numa pasta chamada `imagens` que deve estar no mesmo diretório do Jupyter Notebook."
   ]
  },
  {
   "cell_type": "code",
   "execution_count": 51,
   "metadata": {
    "ExecuteTime": {
     "end_time": "2023-07-18T19:12:39.566067500Z",
     "start_time": "2023-07-18T19:12:39.556064100Z"
    },
    "collapsed": true,
    "jupyter": {
     "outputs_hidden": true
    }
   },
   "outputs": [],
   "source": [
    "# valores por 100 g do alimento\n",
    "calorias_por_alimento = {\n",
    "    \"Batata\\nFrita\": 607,\n",
    "    \"Batata\\nChips\": 542,\n",
    "    \"Bacon\": 533,\n",
    "    \"Pizza\": 296,\n",
    "    \"Cachorro\\nQuente\": 260\n",
    "}"
   ]
  },
  {
   "cell_type": "code",
   "execution_count": null,
   "metadata": {},
   "outputs": [],
   "source": [
    "import matplotlib.pyplot as plt\n",
    "\n",
    "# Preparando os dados para o gráfico\n",
    "alimentos = list(calorias_por_alimento.keys())\n",
    "calorias = list(calorias_por_alimento.values())\n",
    "\n",
    "# Criando a figura\n",
    "plt.figure(figsize=(8, 5))\n",
    "\n",
    "# Criando o gráfico de barras\n",
    "bars = plt.bar(alimentos, calorias, color=['grey' if alimento != \"Bacon\" else 'red' for alimento in alimentos])\n",
    "\n",
    "# Ajustando a transparência das barras\n",
    "for bar, alimento in zip(bars, alimentos):\n",
    "    if alimento == \"Bacon\":\n",
    "        bar.set_alpha(0.8)\n",
    "    else:\n",
    "        bar.set_alpha(0.5)\n",
    "\n",
    "# Adicionando rótulos dentro das barras\n",
    "plt.bar_label(bars, labels=[str(caloria) for caloria in calorias], label_type='center', color='white', fontsize=10, fontweight='bold')\n",
    "\n",
    "# Configurando o título e os rótulos dos eixos\n",
    "plt.title(\"Calorias por 100 g de alimento\", fontsize=14, color='grey', fontweight='bold')\n",
    "plt.ylabel(\"Calorias\", fontsize=12, labelpad=15)\n",
    "\n",
    "# Removendo os ticks dos eixos\n",
    "plt.xticks(fontsize=10)\n",
    "plt.tick_params(axis='x', length=0)\n",
    "plt.yticks(ticks=[], fontsize=10)\n",
    "\n",
    "# Removendo a caixa do gráfico\n",
    "plt.box(False)\n",
    "\n",
    "# Removendo o grid do gráfico\n",
    "plt.grid(False)\n",
    "\n",
    "# Salvando a figura\n",
    "plt.savefig('grafico_barras.png', dpi=300, bbox_inches='tight')\n",
    "\n",
    "# Exibindo o gráfico\n",
    "plt.show()\n"
   ]
  }
 ],
 "metadata": {
  "kernelspec": {
   "display_name": "Python 3",
   "language": "python",
   "name": "python3"
  },
  "language_info": {
   "codemirror_mode": {
    "name": "ipython",
    "version": 3
   },
   "file_extension": ".py",
   "mimetype": "text/x-python",
   "name": "python",
   "nbconvert_exporter": "python",
   "pygments_lexer": "ipython3",
   "version": "3.13.1"
  }
 },
 "nbformat": 4,
 "nbformat_minor": 4
}
