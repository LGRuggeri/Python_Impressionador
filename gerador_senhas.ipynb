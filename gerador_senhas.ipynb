{
 "cells": [
  {
   "cell_type": "markdown",
   "id": "74b1c214-34d8-43a1-867b-1055887eca93",
   "metadata": {},
   "source": [
    "Escreva um programa que gere uma senha aleatória com um determinado comprimento. A senha deve conter uma mistura de letras, números e caracteres especiais. O comprimento da senha deve ser fornecido pelo usuário. Se o comprimento for menor que 4, imprima uma mensagem de erro e peça ao usuário para fornecer um novo comprimento.\n",
    "\n",
    "A senha deve ser aleatória, então cada vez que o usuário executar o programa, uma nova senha deve ser gerada. Obrigatoriamente, a senha deve conter pelo menos uma letra, um número e um caractere especial. A senha não pode conter espaços em branco.\n",
    "\n",
    "O programa deve conter uma função chamada `gerar_senha` que recebe o comprimento da senha como parâmetro e retorna a senha gerada. Se o comprimento for inválido, a função deve retornar None.\n",
    "\n",
    "Exemplo de saída:\n",
    "\n",
    "```\n",
    "Digite o comprimento da senha: 10\n",
    "8Zn$*2q9X\n",
    "```\n",
    "\n",
    "- Dica: use a biblioteca random e a função shuffle para embaralhar os caracteres da senha.\n",
    "- Dica: use a função choice, dessa mesma biblioteca, para escolher um caractere aleatório de uma string.\n",
    "- Dica: use a biblioteca string para obter uma lista de caracteres válidos para a senha."
   ]
  },
  {
   "cell_type": "code",
   "execution_count": null,
   "id": "a9574969",
   "metadata": {},
   "outputs": [],
   "source": [
    "import string\n",
    "import random\n",
    "\n",
    "def gerar_senha(tamanho):\n",
    "    # Certifica-se de que o tamanho da senha seja maior que 4\n",
    "    while tamanho < 4:\n",
    "        tamanho = int(input(\"Tamanho da senha muito pequeno, digite novamente: \"))\n",
    "    \n",
    "    # Cria uma lista com todas as letras maiúsculas, minúsculas, dígitos e pontuações\n",
    "    caracteres = list(string.ascii_letters + string.digits + string.punctuation)\n",
    "    \n",
    "    # Embaralha a lista de caracteres\n",
    "    random.shuffle(caracteres)\n",
    "    \n",
    "    # Seleciona aleatoriamente caracteres para formar a senha\n",
    "    senha = ''.join(random.choice(caracteres) for _ in range(tamanho))\n",
    "    return senha\n",
    "\n",
    "# Solicita ao usuário para digitar o tamanho da senha\n",
    "tamanho_senha = int(input(\"Digite o tamanho da senha: \"))\n",
    "\n",
    "# Imprime a senha gerada\n",
    "print(\"Sua senha é:\", gerar_senha(tamanho_senha))\n"
   ]
  }
 ],
 "metadata": {
  "kernelspec": {
   "display_name": "Python 3",
   "language": "python",
   "name": "python3"
  },
  "language_info": {
   "codemirror_mode": {
    "name": "ipython",
    "version": 3
   },
   "file_extension": ".py",
   "mimetype": "text/x-python",
   "name": "python",
   "nbconvert_exporter": "python",
   "pygments_lexer": "ipython3",
   "version": "3.13.1"
  }
 },
 "nbformat": 4,
 "nbformat_minor": 5
}
