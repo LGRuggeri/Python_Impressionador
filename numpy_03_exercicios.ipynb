{
 "cells": [
  {
   "cell_type": "markdown",
   "metadata": {},
   "source": [
    "## Exercício 1\n",
    "\n",
    "Você é um gerente de vendas e tem os dados de vendas de um produto para os últimos 7 dias em uma lista: `[127, 90, 201, 150, 210, 220, 115]`. Calcule a média de vendas durante a semana."
   ]
  },
  {
   "cell_type": "code",
   "execution_count": null,
   "metadata": {
    "collapsed": false,
    "jupyter": {
     "outputs_hidden": false
    }
   },
   "outputs": [],
   "source": [
    "import numpy as np\n",
    "\n",
    "# Lista de dados de vendas\n",
    "dados = [127, 90, 201, 150, 210, 220, 115]\n",
    "\n",
    "# Calcula a média dos dados de vendas\n",
    "media_vendas = np.mean(dados)\n",
    "\n",
    "# Imprime a média de vendas\n",
    "print('Média de vendas: ', media_vendas)"
   ]
  },
  {
   "cell_type": "markdown",
   "metadata": {},
   "source": [
    "## Exercício 2\n",
    "\n",
    "Você é um analista financeiro e tem os preços de fechamento diário de uma ação para a última semana em um array NumPy: `precos = np.array([31.40, 31.25, 30.95, 31.20, 31.60, 31.50])`. Calcule o preço máximo, mínimo e a variação de preço durante a semana."
   ]
  },
  {
   "cell_type": "code",
   "execution_count": null,
   "metadata": {
    "collapsed": false,
    "jupyter": {
     "outputs_hidden": false
    }
   },
   "outputs": [],
   "source": [
    "import numpy as np\n",
    "\n",
    "# Cria um array NumPy com os preços\n",
    "precos = np.array([31.40, 31.25, 30.95, 31.20, 31.60, 31.50])\n",
    "\n",
    "# Calcula o preço máximo no array\n",
    "preco_maximo = np.max(precos)\n",
    "\n",
    "# Calcula o preço mínimo no array\n",
    "preco_minimo = np.min(precos)\n",
    "\n",
    "# Imprime o preço máximo\n",
    "print('Preço máximo: ', preco_maximo)\n",
    "\n",
    "# Imprime o preço mínimo\n",
    "print('Preço mínimo: ', preco_minimo)\n",
    "\n",
    "# Calcula e imprime a variação de preço\n",
    "print('Variação de preço: {:.2f}'.format(preco_maximo - preco_minimo))\n"
   ]
  },
  {
   "cell_type": "markdown",
   "metadata": {},
   "source": [
    "## Exercício 3\n",
    "\n",
    "Sua loja vendeu em um dia 5 unidades do *Produto A*, 3 unidades do *Produto B* e 2 unidades do *Produto C*. Os preços dos produtos são, respectivamente, 100, 200 e 50 reais. Calcule o total de vendas do dia."
   ]
  },
  {
   "cell_type": "code",
   "execution_count": null,
   "metadata": {},
   "outputs": [],
   "source": [
    "import numpy as np\n",
    "\n",
    "# Cria arrays NumPy com as quantidades vendidas e os preços dos produtos\n",
    "quantidades = np.array([5, 3, 2])\n",
    "precos = np.array([100, 200, 50])\n",
    "\n",
    "# Calcula o total das vendas do dia usando o produto escalar (dot product)\n",
    "vendas_totais_produtos = np.dot(quantidades, precos)\n",
    "\n",
    "# Imprime o total das vendas do dia\n",
    "print('Total de vendas do dia: ', vendas_totais_produtos)\n"
   ]
  }
 ],
 "metadata": {
  "kernelspec": {
   "display_name": "Python 3",
   "language": "python",
   "name": "python3"
  },
  "language_info": {
   "codemirror_mode": {
    "name": "ipython",
    "version": 3
   },
   "file_extension": ".py",
   "mimetype": "text/x-python",
   "name": "python",
   "nbconvert_exporter": "python",
   "pygments_lexer": "ipython3",
   "version": "3.13.1"
  }
 },
 "nbformat": 4,
 "nbformat_minor": 4
}
