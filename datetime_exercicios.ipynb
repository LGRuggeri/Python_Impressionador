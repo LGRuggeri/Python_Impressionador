{
 "cells": [
  {
   "cell_type": "markdown",
   "metadata": {},
   "source": [
    "## Oferecendo desconto para cliente com base na última compra\n",
    "\n",
    "Suponha que você está trabalhando para uma empresa que deseja rastrear a atividade do cliente. Uma métrica que eles estão interessados é o tempo que passou desde a última transação do cliente. Se for muito tempo, eles podem oferecer um desconto para o cliente. Crie um script Python que mostra quanto tempo se passou desde a última compra do cliente. Se faz mais de 30 dias, mostre uma mensagem oferecendo um desconto para o cliente."
   ]
  },
  {
   "cell_type": "code",
   "execution_count": null,
   "metadata": {},
   "outputs": [],
   "source": [
    "from datetime import datetime\n",
    "import locale\n",
    "\n",
    "locale.setlocale(locale.LC_TIME, 'pt-BR.UTF-8')\n",
    "\n",
    "compra = input('Digite a data da ultima compra: ').replace('/','-')\n",
    "data_compra = datetime.strptime(compra, '%d-%m-%Y')\n",
    "data_atual = datetime.now()\n",
    "data_ultima_compra = data_atual - data_compra\n",
    "if data_ultima_compra.days > 30:\n",
    "    print('Cliente possui um desconto, pois faz {} dias desde a última compra'.format(data_ultima_compra.days))\n"
   ]
  },
  {
   "cell_type": "markdown",
   "metadata": {},
   "source": [
    "## Data e hora em diferentes fusos horários\n",
    "\n",
    "Uma empresa tem escritórios em São Paulo, Nova York e Tóquio. Crie um script Python que mostra a data e hora atuais nesses três fusos horários. Exiba, também, se estes escritórios estão abertos ou fechados (9h às 17h).\n"
   ]
  },
  {
   "cell_type": "code",
   "execution_count": null,
   "metadata": {},
   "outputs": [],
   "source": [
    "from datetime import datetime, timedelta, timezone\n",
    "\n",
    "def horario_atual(fuso_horario):\n",
    "    # Obtém a data e hora atual no fuso horário especificado\n",
    "    utc_now = datetime.now(timezone.utc)  # Uso de datetime.now(timezone.utc) ao invés de datetime.utcnow()\n",
    "    local_time = utc_now + fuso_horario\n",
    "    return local_time\n",
    "\n",
    "def verificar_abertura(hora_local):\n",
    "    # Define o horário de funcionamento dos escritórios (9h às 17h)\n",
    "    horario_abertura = hora_local.replace(hour=9, minute=0, second=0, microsecond=0)\n",
    "    horario_fechamento = hora_local.replace(hour=17, minute=0, second=0, microsecond=0)\n",
    "    if horario_abertura <= hora_local < horario_fechamento:\n",
    "        return \"aberto\"\n",
    "    else:\n",
    "        return \"fechado\"\n",
    "\n",
    "# Diferenças de fuso horário em relação ao UTC\n",
    "fuso_horario_sao_paulo = timedelta(hours=-3)\n",
    "fuso_horario_nova_york = timedelta(hours=-5)\n",
    "fuso_horario_toquio = timedelta(hours=9)\n",
    "\n",
    "# Horário atual em São Paulo\n",
    "hora_sao_paulo = horario_atual(fuso_horario_sao_paulo)\n",
    "estado_sao_paulo = verificar_abertura(hora_sao_paulo)\n",
    "print(f\"São Paulo: {hora_sao_paulo.strftime('%Y-%m-%d %H:%M:%S')} - {estado_sao_paulo}\")\n",
    "\n",
    "# Horário atual em Nova York\n",
    "hora_nova_york = horario_atual(fuso_horario_nova_york)\n",
    "estado_nova_york = verificar_abertura(hora_nova_york)\n",
    "print(f\"Nova York: {hora_nova_york.strftime('%Y-%m-%d %H:%M:%S')} - {estado_nova_york}\")\n",
    "\n",
    "# Horário atual em Tóquio\n",
    "hora_toquio = horario_atual(fuso_horario_toquio)\n",
    "estado_toquio = verificar_abertura(hora_toquio)\n",
    "print(f\"Tóquio: {hora_toquio.strftime('%Y-%m-%d %H:%M:%S')} - {estado_toquio}\")\n"
   ]
  },
  {
   "cell_type": "markdown",
   "metadata": {},
   "source": [
    "## Calculando a idade\n",
    "\n",
    "Um usuário fornece sua data de nascimento no formato \"dd/mm/aaaa\". Crie um script Python que calcula a idade do usuário.\n"
   ]
  },
  {
   "cell_type": "code",
   "execution_count": null,
   "metadata": {},
   "outputs": [],
   "source": [
    "from datetime import datetime\n",
    "import locale\n",
    "\n",
    "locale.setlocale(locale.LC_TIME, 'pt-BR.UTF-8')\n",
    "\n",
    "def calcular_idade(ano_nascimento):\n",
    "    ano_nascimento = datetime.strptime(ano_nascimento, '%d/%m/%Y')\n",
    "    ano_atual = datetime.now()\n",
    "    diferenca_anos = ano_atual.year - ano_nascimento.year\n",
    "    print('A sua idade é : {}'.format(diferenca_anos))\n",
    "\n",
    "ano_nascimento = input('Digite o ano de nascimento dd/mm/aaaa')\n",
    "\n",
    "calcular_idade(ano_nascimento)"
   ]
  }
 ],
 "metadata": {
  "kernelspec": {
   "display_name": "Python 3",
   "language": "python",
   "name": "python3"
  },
  "language_info": {
   "codemirror_mode": {
    "name": "ipython",
    "version": 3
   },
   "file_extension": ".py",
   "mimetype": "text/x-python",
   "name": "python",
   "nbconvert_exporter": "python",
   "pygments_lexer": "ipython3",
   "version": "3.13.1"
  }
 },
 "nbformat": 4,
 "nbformat_minor": 4
}
